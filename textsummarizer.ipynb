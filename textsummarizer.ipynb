{
  "nbformat": 4,
  "nbformat_minor": 0,
  "metadata": {
    "colab": {
      "provenance": [],
      "authorship_tag": "ABX9TyPojXmpqOpnxtNQtXqVB3gt",
      "include_colab_link": true
    },
    "kernelspec": {
      "name": "python3",
      "display_name": "Python 3"
    },
    "language_info": {
      "name": "python"
    }
  },
  "cells": [
    {
      "cell_type": "markdown",
      "metadata": {
        "id": "view-in-github",
        "colab_type": "text"
      },
      "source": [
        "<a href=\"https://colab.research.google.com/github/Shihadkp/ML-day-1/blob/main/textsummarizer.ipynb\" target=\"_parent\"><img src=\"https://colab.research.google.com/assets/colab-badge.svg\" alt=\"Open In Colab\"/></a>"
      ]
    },
    {
      "cell_type": "code",
      "execution_count": 1,
      "metadata": {
        "colab": {
          "base_uri": "https://localhost:8080/"
        },
        "id": "SRzs6LX875-U",
        "outputId": "437e1fc1-6ed4-46cd-d361-808e4c206b99"
      },
      "outputs": [
        {
          "output_type": "stream",
          "name": "stdout",
          "text": [
            "Requirement already satisfied: nltk in /usr/local/lib/python3.10/dist-packages (3.8.1)\n",
            "Requirement already satisfied: click in /usr/local/lib/python3.10/dist-packages (from nltk) (8.1.7)\n",
            "Requirement already satisfied: joblib in /usr/local/lib/python3.10/dist-packages (from nltk) (1.3.2)\n",
            "Requirement already satisfied: regex>=2021.8.3 in /usr/local/lib/python3.10/dist-packages (from nltk) (2023.12.25)\n",
            "Requirement already satisfied: tqdm in /usr/local/lib/python3.10/dist-packages (from nltk) (4.66.2)\n"
          ]
        }
      ],
      "source": [
        "pip install nltk"
      ]
    },
    {
      "cell_type": "code",
      "source": [
        "import nltk\n",
        "from nltk.corpus import stopwords\n",
        "from nltk.tokenize import word_tokenize, sent_tokenize\n",
        "from heapq import nlargest\n",
        "\n",
        "# Download nltk resources if not already downloaded\n",
        "nltk.download('punkt')\n",
        "nltk.download('stopwords')\n",
        "\n",
        "def text_summarizer(text, num_sentences=3):\n",
        "    # Tokenize the text into sentences\n",
        "    sentences = sent_tokenize(text)\n",
        "\n",
        "    # Tokenize the text into words\n",
        "    words = word_tokenize(text)\n",
        "\n",
        "    # Remove stopwords\n",
        "    stop_words = set(stopwords.words('english'))\n",
        "    words = [word for word in words if word.lower() not in stop_words]\n",
        "\n",
        "    # Calculate word frequencies\n",
        "    word_freq = {}\n",
        "    for word in words:\n",
        "        if word in word_freq:\n",
        "            word_freq[word] += 1\n",
        "        else:\n",
        "            word_freq[word] = 1\n",
        "\n",
        "    # Calculate sentence scores based on word frequencies\n",
        "    sentence_scores = {}\n",
        "    for sentence in sentences:\n",
        "        for word in word_tokenize(sentence.lower()):\n",
        "            if word in word_freq:\n",
        "                if sentence not in sentence_scores:\n",
        "                    sentence_scores[sentence] = word_freq[word]\n",
        "                else:\n",
        "                    sentence_scores[sentence] += word_freq[word]\n",
        "\n",
        "    # Select the top 'num_sentences' sentences with highest scores\n",
        "    summary_sentences = nlargest(num_sentences, sentence_scores, key=sentence_scores.get)\n",
        "    summary = ' '.join(summary_sentences)\n",
        "\n",
        "    return summary\n",
        "\n",
        "# Main function\n",
        "def main():\n",
        "    # Input text from the user\n",
        "    text = input(\"Enter the text you want to summarize:\\n\")\n",
        "\n",
        "    # Set the number of sentences in the summary\n",
        "    num_sentences = int(input(\"Enter the number of sentences for the summary (default is 3): \") or 3)\n",
        "\n",
        "    # Generate summary\n",
        "    summary = text_summarizer(text, num_sentences)\n",
        "    print(\"\\nSummary:\")\n",
        "    print(summary)\n",
        "\n",
        "if __name__ == \"__main__\":\n",
        "    main()\n"
      ],
      "metadata": {
        "colab": {
          "base_uri": "https://localhost:8080/"
        },
        "id": "sgEnC5bg8DMR",
        "outputId": "a08893f0-639f-4f31-cc7e-9a240ace14f2"
      },
      "execution_count": 2,
      "outputs": [
        {
          "output_type": "stream",
          "name": "stderr",
          "text": [
            "[nltk_data] Downloading package punkt to /root/nltk_data...\n",
            "[nltk_data]   Unzipping tokenizers/punkt.zip.\n",
            "[nltk_data] Downloading package stopwords to /root/nltk_data...\n",
            "[nltk_data]   Unzipping corpora/stopwords.zip.\n"
          ]
        },
        {
          "output_type": "stream",
          "name": "stdout",
          "text": [
            "Enter the text you want to summarize:\n",
            "The Industrial Revolution was a period of major industrialization and innovation that took place during the late 18th and early 19th centuries. It marked a significant shift from agrarian economies to industrialized societies, leading to profound changes in agriculture, manufacturing, transportation, and technology.  During this time, advancements in machinery, such as the steam engine, played a crucial role in driving economic growth and productivity. Factories and mills emerged as centers of production, drawing rural populations to urban areas in search of employment opportunities.  The Industrial Revolution also brought about significant social and demographic changes. The rise of factory-based industries led to the development of a working class, characterized by long hours, poor working conditions, and low wages. This period saw the emergence of labor movements and the fight for workers' rights.  In addition to its economic and social impacts, the Industrial Revolution transformed the cultural landscape. It spurred innovation in art, literature, and science, leading to new forms of expression and discovery. The period also saw the rise of urbanization, as cities grew rapidly to accommodate the influx of workers and industries.  Despite its many benefits, the Industrial Revolution also had negative consequences, including environmental degradation, exploitation of labor, and widening economic disparities. These issues continue to be relevant today as societies grapple with the challenges of industrialization and globalization.  Overall, the Industrial Revolution was a transformative period in human history, shaping the modern world in profound ways. Its legacy continues to influence our lives and societies, reminding us of the importance of innovation, progress, and social responsibility.\n",
            "Enter the number of sentences for the summary (default is 3): 2\n",
            "\n",
            "Summary:\n",
            "It marked a significant shift from agrarian economies to industrialized societies, leading to profound changes in agriculture, manufacturing, transportation, and technology. Despite its many benefits, the Industrial Revolution also had negative consequences, including environmental degradation, exploitation of labor, and widening economic disparities.\n"
          ]
        }
      ]
    }
  ]
}